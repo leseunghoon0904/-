{
  "nbformat": 4,
  "nbformat_minor": 0,
  "metadata": {
    "colab": {
      "provenance": [],
      "authorship_tag": "ABX9TyP8qmuXW3Q4D2vkrCqhI6SL",
      "include_colab_link": true
    },
    "kernelspec": {
      "name": "python3",
      "display_name": "Python 3"
    },
    "language_info": {
      "name": "python"
    }
  },
  "cells": [
    {
      "cell_type": "markdown",
      "metadata": {
        "id": "view-in-github",
        "colab_type": "text"
      },
      "source": [
        "<a href=\"https://colab.research.google.com/github/leseunghoon0904/-/blob/main/%EA%B8%B0%EB%A7%90.ipynb\" target=\"_parent\"><img src=\"https://colab.research.google.com/assets/colab-badge.svg\" alt=\"Open In Colab\"/></a>"
      ]
    },
    {
      "cell_type": "code",
      "execution_count": null,
      "metadata": {
        "id": "q8BUemXxX6vq"
      },
      "outputs": [],
      "source": [
        "\n",
        "\n",
        "2차원화면에있는직사각형의둘레와넓이구하기\n",
        "▪ 아래테스트코드사용\n",
        "# 주 프로그램부\n",
        "r1 = Rectangle(5, 5, 20, 10)\n",
        " a = r1.getArea()\n",
        " p = r1.getPerimeter()\n",
        " r1.show()\n",
        " print(f'\\n넓이는 {a}, 둘레는 {p}')\n",
        " ▪ 실행결과\n",
        "좌측상단꼭지점이(5, 5)이고우측하단꼭지점이(20, 10)인사각형입니다.\n",
        "넓이는75, 둘레는40\n",
        "\n",
        "# 🧱 클래스 정의 부분\n",
        "class Rectangle:\n",
        "    def __init__(self, x1, y1, x2, y2):\n",
        "        self.x1 = x1\n",
        "        self.y1 = y1\n",
        "        self.x2 = x2\n",
        "        self.y2 = y2\n",
        "\n",
        "    def getArea(self):\n",
        "        return (self.x2 - self.x1) * (self.y2 - self.y1)\n",
        "\n",
        "    def getPerimeter(self):\n",
        "        return 2 * ((self.x2 - self.x1) + (self.y2 - self.y1))\n",
        "\n",
        "    def show(self):\n",
        "        print(f\"좌측상단꼭지점이({self.x1}, {self.y1})이고 우측하단꼭지점이({self.x2}, {self.y2})인 사각형입니다.\")\n",
        "\n",
        "\n",
        "# 🚀 주 프로그램부 (객체 생성 및 실행)\n",
        "r1 = Rectangle(5, 5, 20, 10)\n",
        "a = r1.getArea()\n",
        "p = r1.getPerimeter()\n",
        "r1.show()\n",
        "print(f\"\\n넓이는 {a}, 둘레는 {p}\")\n"
      ]
    },
    {
      "cell_type": "markdown",
      "source": [
        "# 새 섹션"
      ],
      "metadata": {
        "id": "UfZbRebZYJHX"
      }
    },
    {
      "cell_type": "markdown",
      "source": [
        "# 새 섹션"
      ],
      "metadata": {
        "id": "Y6Xu9t9QCnZB"
      }
    },
    {
      "cell_type": "code",
      "source": [
        " 연습문제10.3 실행 후, 특정 점수를 받은 학생의번호확인\n",
        "▪ 하나의리스트(lst)와 정수(n)을 매개변수로 전달받아, 그 리스트상에\n",
        "n이 나타나는인덱스를반환하는함수search() 작성.\n",
        " n이 나타나지않으면이함수는None 반환\n",
        "▪ 실행화면\n",
        "▪ 구현을간단히하기\n",
        "위해동일점수를\n",
        "받은학생은없다가정\n",
        "▪ search() 함수 대신\n",
        "리스트의메서드를\n",
        "이용하는방식으로도\n",
        "구현\n",
        "[점수입력]\n",
        " #1? 95\n",
        " #2? 82\n",
        " #3? 100\n",
        " #4? 90\n",
        " #5? 97\n",
        " #6? -1\n",
        " [점수출력]\n",
        "개인점수: 95 82 100 90 97\n",
        "평균: 92.8\n",
        " [검색]\n",
        "찾고자하는점수는? 100\n",
        " 100점은3번학생의점수입니다.\n",
        "복합자료형활용\n",
        "[검색]\n",
        "찾고자하는점수는? 0\n",
        " 0점을받은학생은없습니다.\n",
        "\n",
        " # 점수 입력\n",
        "scores = []\n",
        "print(\"[점수입력]\")\n",
        "for i in range(1, 7):\n",
        "    score = int(input(f\"#{i}? \"))\n",
        "    if score == -1:\n",
        "        break\n",
        "    scores.append(score)\n",
        "\n",
        "# 점수 출력\n",
        "print(\"[점수출력]\")\n",
        "print(\"개인점수:\", *scores)\n",
        "avg = sum(scores) / len(scores)\n",
        "print(f\"평균: {avg:.1f}\")\n",
        "\n",
        "# 점수 검색\n",
        "print(\"[검색]\")\n",
        "target = int(input(\"찾고자하는점수는? \"))\n",
        "if target in scores:\n",
        "    idx = scores.index(target)\n",
        "    print(f\"{target}점은 {idx + 1}번 학생의 점수입니다.\")\n",
        "else:\n",
        "    print(f\"{target}점을 받은 학생은 없습니다.\")\n"
      ],
      "metadata": {
        "id": "7_ESXt3SCtHr"
      },
      "execution_count": null,
      "outputs": []
    },
    {
      "cell_type": "code",
      "source": [
        "\n",
        ""
      ],
      "metadata": {
        "id": "DO0gquAu0wsW"
      },
      "execution_count": null,
      "outputs": []
    },
    {
      "cell_type": "code",
      "source": [
        "# 점수를 저장할 리스트\n",
        "scores = []\n",
        "\n",
        "print(\"[점수 입력]\")\n",
        "# 사용자로부터 3개의 점수를 입력 받아 리스트에 저장\n",
        "scores.append(int(input(\"#1? \")))\n",
        "scores.append(int(input(\"#2? \")))\n",
        "scores.append(int(input(\"#3? \")))\n",
        "\n",
        "# 평균 계산\n",
        "average = sum(scores) / len(scores)\n",
        "\n",
        "# 출력\n",
        "print(\"[점수 출력]\")\n",
        "print(\"입력 점수:\", scores[0], scores[1], scores[2])\n",
        "print(f\"평균: {average:.1f}\")\n",
        "\n",
        "◆ 세 학생의 점수를 입력 받아, 이 점수와 평균을 출력\n",
        "▪ 사용자로부터 점수 3개를 입력 받아 리스트 scores에 저장\n",
        "(append() 이용. For문을 사용하면 편하나, 사용하지 않아도 무방)\n",
        " ▪ 리스트에 저장된 점수들의 평균을 구함\n",
        "▪ 리스트에 저장된 점수들과 함께 평균을 소수점 첫째자리까지 출력\n",
        "▪ 실행 화면\n",
        "[점수 입력]\n",
        " #1? 90\n",
        " #2? 85\n",
        " #3? 100\n",
        " [점수 출력]\n",
        "입력 점수: 90 85 100\n",
        "평균: 91.7"
      ],
      "metadata": {
        "id": "5dYLoUiP__u-"
      },
      "execution_count": null,
      "outputs": []
    },
    {
      "cell_type": "markdown",
      "source": [
        "**굵은 텍스트**# 새 섹션"
      ],
      "metadata": {
        "id": "F6ujASR7B_TZ"
      }
    }
  ]
}