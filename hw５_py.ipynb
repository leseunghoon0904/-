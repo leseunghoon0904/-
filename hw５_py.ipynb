{
  "nbformat": 4,
  "nbformat_minor": 0,
  "metadata": {
    "colab": {
      "provenance": [],
      "authorship_tag": "ABX9TyMS8XVi5x/RVvX9Z/Ws4us+",
      "include_colab_link": true
    },
    "kernelspec": {
      "name": "python3",
      "display_name": "Python 3"
    },
    "language_info": {
      "name": "python"
    }
  },
  "cells": [
    {
      "cell_type": "markdown",
      "metadata": {
        "id": "view-in-github",
        "colab_type": "text"
      },
      "source": [
        "<a href=\"https://colab.research.google.com/github/leseunghoon0904/-/blob/main/hw%EF%BC%95_py.ipynb\" target=\"_parent\"><img src=\"https://colab.research.google.com/assets/colab-badge.svg\" alt=\"Open In Colab\"/></a>"
      ]
    },
    {
      "cell_type": "code",
      "source": [
        "def read_single_digit(digit):\n",
        "    digit_to_korean = ['영', '일', '이', '삼', '사', '오', '육', '칠', '팔', '구']\n",
        "    return digit_to_korean[digit]\n",
        "\n",
        "def read_number(number):\n",
        "\n",
        "    for ch in str(number):\n",
        "        print(read_single_digit(int(ch)), end=' ')\n",
        "    print()\n",
        "\n",
        "def main():\n",
        "    try:\n",
        "        user_input = int(input(\"세자리 정수를 입력하세요: \"))\n",
        "        read_number(user_input)\n",
        "    except ValueError:\n",
        "        print(\"정수입력.\")\n",
        "\n",
        "main()"
      ],
      "metadata": {
        "id": "BgwvLpmDFDZW"
      },
      "execution_count": null,
      "outputs": []
    },
    {
      "cell_type": "code",
      "source": [
        "def get_integer(prompt):\n",
        "    while True:\n",
        "        try:\n",
        "            return int(input(prompt))\n",
        "        except ValueError:\n",
        "            print(\"유효한 정수를 입력하세요.\")\n",
        "\n",
        "def exchange(amount):\n",
        "    coins = [500, 100, 50, 10]\n",
        "    counts = {}\n",
        "\n",
        "    for coin in coins:\n",
        "        counts[coin] = amount // coin\n",
        "        amount %= coin\n",
        "\n",
        "    for coin in coins:\n",
        "        print(f\"{coin}원: {counts[coin]}개\")\n",
        "\n",
        "amount = get_integer(\"금액을 입력하세요: \")\n",
        "exchange(amount)"
      ],
      "metadata": {
        "id": "8HoL7fk-FDck"
      },
      "execution_count": null,
      "outputs": []
    }
  ]
}