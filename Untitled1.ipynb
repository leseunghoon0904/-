{
  "nbformat": 4,
  "nbformat_minor": 0,
  "metadata": {
    "colab": {
      "provenance": [],
      "authorship_tag": "ABX9TyMuQrvxpKYPH6RL+Rwuwfue",
      "include_colab_link": true
    },
    "kernelspec": {
      "name": "python3",
      "display_name": "Python 3"
    },
    "language_info": {
      "name": "python"
    }
  },
  "cells": [
    {
      "cell_type": "markdown",
      "metadata": {
        "id": "view-in-github",
        "colab_type": "text"
      },
      "source": [
        "<a href=\"https://colab.research.google.com/github/leseunghoon0904/-/blob/main/Untitled1.ipynb\" target=\"_parent\"><img src=\"https://colab.research.google.com/assets/colab-badge.svg\" alt=\"Open In Colab\"/></a>"
      ]
    },
    {
      "cell_type": "code",
      "source": [
        "import math\n",
        "\n",
        "def get_radius(prompt):\n",
        "    r = int(input(prompt))\n",
        "    return r\n",
        "\n",
        "def calculate_area(radius):\n",
        "    return math.pi * radius ** 2\n",
        "\n",
        "radius = get_radius(\"원의 반지름을 입력하세요: \")\n",
        "\n",
        "area = calculate_area(radius)\n",
        "\n",
        "print(f\"반지름 {radius}인 원의 넓이는 {area:.2f}입니다.\")\n"
      ],
      "metadata": {
        "colab": {
          "base_uri": "https://localhost:8080/"
        },
        "id": "BgwvLpmDFDZW",
        "outputId": "eab46108-43a9-4e55-95b8-ebd94262f2cc"
      },
      "execution_count": null,
      "outputs": [
        {
          "output_type": "stream",
          "name": "stdout",
          "text": [
            "원의 반지름을 입력하세요: 4\n",
            "반지름 4인 원의 넓이는 50.27입니다.\n"
          ]
        }
      ]
    },
    {
      "cell_type": "code",
      "source": [
        "def get_integer(prompt):\n",
        "    while True:\n",
        "        try:\n",
        "            return int(input(prompt))\n",
        "        except ValueError:\n",
        "            print(\"유효한 정수를 입력하세요.\")\n",
        "\n",
        "def exchange(amount):\n",
        "    coins = [500, 100, 50, 10]\n",
        "    counts = {}\n",
        "\n",
        "    for coin in coins:\n",
        "        counts[coin] = amount // coin\n",
        "        amount %= coin\n",
        "\n",
        "    for coin in coins:\n",
        "        print(f\"{coin}원: {counts[coin]}개\")\n",
        "\n",
        "amount = get_integer(\"금액을 입력하세요: \")\n",
        "exchange(amount)"
      ],
      "metadata": {
        "id": "8HoL7fk-FDck"
      },
      "execution_count": null,
      "outputs": []
    }
  ]
}